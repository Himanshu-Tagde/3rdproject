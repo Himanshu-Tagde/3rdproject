{
  "nbformat": 4,
  "nbformat_minor": 0,
  "metadata": {
    "colab": {
      "provenance": [],
      "authorship_tag": "ABX9TyMZwjX4oIXsHORlSmCcyaE8"
    },
    "kernelspec": {
      "name": "python3",
      "display_name": "Python 3"
    },
    "language_info": {
      "name": "python"
    }
  },
  "cells": [
    {
      "cell_type": "code",
      "source": [
        "!pip install language_tool_python"
      ],
      "metadata": {
        "colab": {
          "base_uri": "https://localhost:8080/"
        },
        "id": "n0o5YC3iuhR4",
        "outputId": "805ad3bc-08e8-49f1-ade6-46c8b914c1b9"
      },
      "execution_count": 2,
      "outputs": [
        {
          "output_type": "stream",
          "name": "stdout",
          "text": [
            "Collecting language_tool_python\n",
            "  Downloading language_tool_python-2.8.1-py3-none-any.whl.metadata (12 kB)\n",
            "Requirement already satisfied: pip in /usr/local/lib/python3.10/dist-packages (from language_tool_python) (24.1.2)\n",
            "Requirement already satisfied: requests in /usr/local/lib/python3.10/dist-packages (from language_tool_python) (2.32.3)\n",
            "Requirement already satisfied: tqdm in /usr/local/lib/python3.10/dist-packages (from language_tool_python) (4.66.5)\n",
            "Requirement already satisfied: wheel in /usr/local/lib/python3.10/dist-packages (from language_tool_python) (0.44.0)\n",
            "Requirement already satisfied: charset-normalizer<4,>=2 in /usr/local/lib/python3.10/dist-packages (from requests->language_tool_python) (3.4.0)\n",
            "Requirement already satisfied: idna<4,>=2.5 in /usr/local/lib/python3.10/dist-packages (from requests->language_tool_python) (3.10)\n",
            "Requirement already satisfied: urllib3<3,>=1.21.1 in /usr/local/lib/python3.10/dist-packages (from requests->language_tool_python) (2.2.3)\n",
            "Requirement already satisfied: certifi>=2017.4.17 in /usr/local/lib/python3.10/dist-packages (from requests->language_tool_python) (2024.8.30)\n",
            "Downloading language_tool_python-2.8.1-py3-none-any.whl (35 kB)\n",
            "Installing collected packages: language_tool_python\n",
            "Successfully installed language_tool_python-2.8.1\n"
          ]
        }
      ]
    },
    {
      "cell_type": "code",
      "execution_count": null,
      "metadata": {
        "id": "CoUzrzjQsNhO"
      },
      "outputs": [],
      "source": [
        "import language_tool_python\n",
        "\n",
        "def check_grammar(text):\n",
        "    # Initialize the LanguageTool object\n",
        "    tool = language_tool_python.LanguageTool('en-US')\n",
        "\n",
        "    # Check the text for errors\n",
        "    matches = tool.check(text)\n",
        "\n",
        "    return matches\n",
        "\n",
        "def display_errors(matches):\n",
        "    if not matches:\n",
        "        print(\"No grammar mistakes found!\")\n",
        "        return\n",
        "\n",
        "    for match in matches:\n",
        "        print(f\"Error: {match.ruleId}\")\n",
        "        print(f\"Issue: {match.message}\")\n",
        "        print(f\"Context: {match.context}\")\n",
        "        print(f\"Suggestion: {', '.join(match.replacements)}\")\n",
        "        print(\"-\" * 40)\n",
        "\n",
        "def main():\n",
        "    print(\"Grammar Checker\")\n",
        "\n",
        "    while True:\n",
        "        text = input(\"\\nEnter text to check for grammar mistakes (or 'exit' to quit): \")\n",
        "        if text.lower() == 'exit':\n",
        "            break\n",
        "\n",
        "        matches = check_grammar(text)\n",
        "        display_errors(matches)\n",
        "\n",
        "if __name__ == \"__main__\":\n",
        "    main()\n",
        "\n"
      ]
    },
    {
      "cell_type": "markdown",
      "source": [
        "Flashcard and Translation App"
      ],
      "metadata": {
        "id": "cWyeddg0vmtc"
      }
    },
    {
      "cell_type": "code",
      "source": [
        "pip install googletrans==4.0.0-rc1"
      ],
      "metadata": {
        "colab": {
          "base_uri": "https://localhost:8080/"
        },
        "id": "t_-DtANHvoBE",
        "outputId": "54a36d78-5cd2-4aa3-98c5-d463b5c8ac59"
      },
      "execution_count": 4,
      "outputs": [
        {
          "output_type": "stream",
          "name": "stdout",
          "text": [
            "Collecting googletrans==4.0.0-rc1\n",
            "  Downloading googletrans-4.0.0rc1.tar.gz (20 kB)\n",
            "  Preparing metadata (setup.py) ... \u001b[?25l\u001b[?25hdone\n",
            "Collecting httpx==0.13.3 (from googletrans==4.0.0-rc1)\n",
            "  Downloading httpx-0.13.3-py3-none-any.whl.metadata (25 kB)\n",
            "Requirement already satisfied: certifi in /usr/local/lib/python3.10/dist-packages (from httpx==0.13.3->googletrans==4.0.0-rc1) (2024.8.30)\n",
            "Collecting hstspreload (from httpx==0.13.3->googletrans==4.0.0-rc1)\n",
            "  Downloading hstspreload-2024.10.1-py3-none-any.whl.metadata (2.1 kB)\n",
            "Requirement already satisfied: sniffio in /usr/local/lib/python3.10/dist-packages (from httpx==0.13.3->googletrans==4.0.0-rc1) (1.3.1)\n",
            "Collecting chardet==3.* (from httpx==0.13.3->googletrans==4.0.0-rc1)\n",
            "  Downloading chardet-3.0.4-py2.py3-none-any.whl.metadata (3.2 kB)\n",
            "Collecting idna==2.* (from httpx==0.13.3->googletrans==4.0.0-rc1)\n",
            "  Downloading idna-2.10-py2.py3-none-any.whl.metadata (9.1 kB)\n",
            "Collecting rfc3986<2,>=1.3 (from httpx==0.13.3->googletrans==4.0.0-rc1)\n",
            "  Downloading rfc3986-1.5.0-py2.py3-none-any.whl.metadata (6.5 kB)\n",
            "Collecting httpcore==0.9.* (from httpx==0.13.3->googletrans==4.0.0-rc1)\n",
            "  Downloading httpcore-0.9.1-py3-none-any.whl.metadata (4.6 kB)\n",
            "Collecting h11<0.10,>=0.8 (from httpcore==0.9.*->httpx==0.13.3->googletrans==4.0.0-rc1)\n",
            "  Downloading h11-0.9.0-py2.py3-none-any.whl.metadata (8.1 kB)\n",
            "Collecting h2==3.* (from httpcore==0.9.*->httpx==0.13.3->googletrans==4.0.0-rc1)\n",
            "  Downloading h2-3.2.0-py2.py3-none-any.whl.metadata (32 kB)\n",
            "Collecting hyperframe<6,>=5.2.0 (from h2==3.*->httpcore==0.9.*->httpx==0.13.3->googletrans==4.0.0-rc1)\n",
            "  Downloading hyperframe-5.2.0-py2.py3-none-any.whl.metadata (7.2 kB)\n",
            "Collecting hpack<4,>=3.0 (from h2==3.*->httpcore==0.9.*->httpx==0.13.3->googletrans==4.0.0-rc1)\n",
            "  Downloading hpack-3.0.0-py2.py3-none-any.whl.metadata (7.0 kB)\n",
            "Downloading httpx-0.13.3-py3-none-any.whl (55 kB)\n",
            "\u001b[2K   \u001b[90m━━━━━━━━━━━━━━━━━━━━━━━━━━━━━━━━━━━━━━━━\u001b[0m \u001b[32m55.1/55.1 kB\u001b[0m \u001b[31m4.4 MB/s\u001b[0m eta \u001b[36m0:00:00\u001b[0m\n",
            "\u001b[?25hDownloading chardet-3.0.4-py2.py3-none-any.whl (133 kB)\n",
            "\u001b[2K   \u001b[90m━━━━━━━━━━━━━━━━━━━━━━━━━━━━━━━━━━━━━━━━\u001b[0m \u001b[32m133.4/133.4 kB\u001b[0m \u001b[31m10.7 MB/s\u001b[0m eta \u001b[36m0:00:00\u001b[0m\n",
            "\u001b[?25hDownloading httpcore-0.9.1-py3-none-any.whl (42 kB)\n",
            "\u001b[2K   \u001b[90m━━━━━━━━━━━━━━━━━━━━━━━━━━━━━━━━━━━━━━━━\u001b[0m \u001b[32m42.6/42.6 kB\u001b[0m \u001b[31m3.4 MB/s\u001b[0m eta \u001b[36m0:00:00\u001b[0m\n",
            "\u001b[?25hDownloading idna-2.10-py2.py3-none-any.whl (58 kB)\n",
            "\u001b[2K   \u001b[90m━━━━━━━━━━━━━━━━━━━━━━━━━━━━━━━━━━━━━━━━\u001b[0m \u001b[32m58.8/58.8 kB\u001b[0m \u001b[31m4.0 MB/s\u001b[0m eta \u001b[36m0:00:00\u001b[0m\n",
            "\u001b[?25hDownloading h2-3.2.0-py2.py3-none-any.whl (65 kB)\n",
            "\u001b[2K   \u001b[90m━━━━━━━━━━━━━━━━━━━━━━━━━━━━━━━━━━━━━━━━\u001b[0m \u001b[32m65.0/65.0 kB\u001b[0m \u001b[31m5.5 MB/s\u001b[0m eta \u001b[36m0:00:00\u001b[0m\n",
            "\u001b[?25hDownloading rfc3986-1.5.0-py2.py3-none-any.whl (31 kB)\n",
            "Downloading hstspreload-2024.10.1-py3-none-any.whl (1.2 MB)\n",
            "\u001b[2K   \u001b[90m━━━━━━━━━━━━━━━━━━━━━━━━━━━━━━━━━━━━━━━━\u001b[0m \u001b[32m1.2/1.2 MB\u001b[0m \u001b[31m37.9 MB/s\u001b[0m eta \u001b[36m0:00:00\u001b[0m\n",
            "\u001b[?25hDownloading h11-0.9.0-py2.py3-none-any.whl (53 kB)\n",
            "\u001b[2K   \u001b[90m━━━━━━━━━━━━━━━━━━━━━━━━━━━━━━━━━━━━━━━━\u001b[0m \u001b[32m53.6/53.6 kB\u001b[0m \u001b[31m4.6 MB/s\u001b[0m eta \u001b[36m0:00:00\u001b[0m\n",
            "\u001b[?25hDownloading hpack-3.0.0-py2.py3-none-any.whl (38 kB)\n",
            "Downloading hyperframe-5.2.0-py2.py3-none-any.whl (12 kB)\n",
            "Building wheels for collected packages: googletrans\n",
            "  Building wheel for googletrans (setup.py) ... \u001b[?25l\u001b[?25hcanceled\n",
            "\u001b[31mERROR: Operation cancelled by user\u001b[0m\u001b[31m\n",
            "\u001b[0m"
          ]
        }
      ]
    },
    {
      "cell_type": "code",
      "source": [
        "from googletrans import Translator, LANGUAGES\n",
        "import random\n",
        "\n",
        "class Flashcard:\n",
        "    def __init__(self, word, translation):\n",
        "        self.word = word\n",
        "        self.translation = translation\n",
        "\n",
        "class FlashcardApp:\n",
        "    def __init__(self):\n",
        "        self.flashcards = []\n",
        "        self.translator = Translator()\n",
        "\n",
        "    def add_flashcard(self, word, target_language):\n",
        "        translation = self.translate_word(word, target_language)\n",
        "        flashcard = Flashcard(word, translation)\n",
        "        self.flashcards.append(flashcard)\n",
        "        print(f\"Added flashcard: {word} -> {translation}\")\n",
        "\n",
        "    def translate_word(self, word, target_language):\n",
        "        translation = self.translator.translate(word, dest=target_language)\n",
        "        return translation.text\n",
        "\n",
        "    def quiz(self):\n",
        "        if not self.flashcards:\n",
        "            print(\"No flashcards available. Please add some.\")\n",
        "            return\n",
        "\n",
        "        random_flashcard = random.choice(self.flashcards)\n",
        "        user_answer = input(f\"What is the translation of '{random_flashcard.word}'? \")\n",
        "\n",
        "        if user_answer.lower() == random_flashcard.translation.lower():\n",
        "            print(\"Correct!\")\n",
        "        else:\n",
        "            print(f\"Incorrect! The correct translation is '{random_flashcard.translation}'.\")\n",
        "\n",
        "    def show_flashcards(self):\n",
        "        if not self.flashcards:\n",
        "            print(\"No flashcards available.\")\n",
        "            return\n",
        "\n",
        "        print(\"Your flashcards:\")\n",
        "        for flashcard in self.flashcards:\n",
        "            print(f\"{flashcard.word} -> {flashcard.translation}\")\n",
        "\n",
        "def main():\n",
        "    app = FlashcardApp()\n",
        "\n",
        "    print(\"Language Translation Tool\")\n",
        "    print(\"Available languages:\")\n",
        "    for lang in LANGUAGES:\n",
        "        print(f\"{lang}: {LANGUAGES[lang]}\")\n",
        "\n",
        "    while True:\n",
        "        print(\"\\nOptions:\")\n",
        "        print(\"1. Add Flashcard\")\n",
        "        print(\"2. Quiz\")\n",
        "        print(\"3. Show Flashcards\")\n",
        "        print(\"4. Exit\")\n",
        "\n",
        "        choice = input(\"Choose an option (1-4): \")\n",
        "\n",
        "        if choice == '1':\n",
        "            word = input(\"Enter the word to translate: \")\n",
        "            target_language = input(\"Enter target language code (e.g., 'hi' for Hindi, 'es' for Spanish): \")\n",
        "            if target_language not in LANGUAGES:\n",
        "                print(\"Invalid language code. Please try again.\")\n",
        "                continue\n",
        "            app.add_flashcard(word, target_language)\n",
        "        elif choice == '2':\n",
        "            app.quiz()\n",
        "        elif choice == '3':\n",
        "            app.show_flashcards()\n",
        "        elif choice == '4':\n",
        "            print(\"Exiting the app.\")\n",
        "            break\n",
        "        else:\n",
        "            print(\"Invalid choice. Please try again.\")\n",
        "\n",
        "if __name__ == \"__main__\":\n",
        "    main()\n"
      ],
      "metadata": {
        "id": "HfLFxyWjwEgu"
      },
      "execution_count": null,
      "outputs": []
    }
  ]
}
